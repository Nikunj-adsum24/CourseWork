{
  "cells": [
    {
      "cell_type": "markdown",
      "metadata": {
        "id": "view-in-github",
        "colab_type": "text"
      },
      "source": [
        "<a href=\"https://colab.research.google.com/github/Nikunj-adsum24/personalce800/blob/main/week3/problem1.ipynb\" target=\"_parent\"><img src=\"https://colab.research.google.com/assets/colab-badge.svg\" alt=\"Open In Colab\"/></a>"
      ]
    },
    {
      "cell_type": "markdown",
      "metadata": {
        "id": "ph3JtUxUBBZy"
      },
      "source": [
        "Before you turn this problem in, make sure everything runs as expected. First, **restart the kernel** (in the menubar, select Kernel$\\rightarrow$Restart) and then **run all cells** (in the menubar, select Cell$\\rightarrow$Run All).\n",
        "\n",
        "Make sure you fill in any place that says `YOUR CODE HERE` or \"YOUR ANSWER HERE\", as well as your name and collaborators below:"
      ]
    },
    {
      "cell_type": "code",
      "execution_count": null,
      "metadata": {
        "id": "ZbLmhW05BBZ8"
      },
      "outputs": [],
      "source": [
        "NAME = \"NIKUNJKUMAR DHANANI\"\n",
        "COLLABORATORS = \"2111709\""
      ]
    },
    {
      "cell_type": "markdown",
      "metadata": {
        "id": "Ywl3ILuDBBZ-"
      },
      "source": [
        "---"
      ]
    },
    {
      "cell_type": "markdown",
      "metadata": {
        "id": "qOaDZP04BBaA"
      },
      "source": [
        "---\n",
        "# Welcome to CE880\n",
        "### This is your week-3 : Problem 1 notebook\n",
        "\n",
        "For this problem set, we'll be using the Jupyter notebook and please upload this notebook to [Google Colab](https://colab.research.google.com/). \n"
      ]
    },
    {
      "cell_type": "markdown",
      "metadata": {
        "id": "JIa8fSkpBBaB"
      },
      "source": [
        "---\n",
        "## Question 1:\n",
        "\n",
        "We have already loaded `iris` dataset for you. Now, write a function to calculate the `median` on the 1st column of the dataset. \n",
        "`Hint`: To find the median, you first need to sort the values in your sample. But, before that we have sliced, the first column of `iris` data into a variable name `sample` and data type is a list. Then pass `sample` list as a parameter in you `my_median` function. \n",
        "The `median` of a sample of numeric data is the value that lies in the middle when we sort the data. The data may be sorted in ascending or descending order, the median remains the same. Please also consider what to do if there is no middle value."
      ]
    },
    {
      "cell_type": "code",
      "execution_count": 1,
      "metadata": {
        "deletable": false,
        "nbgrader": {
          "cell_type": "code",
          "checksum": "b0df165e4bf3981a6bb75cb256c32656",
          "grade": false,
          "grade_id": "my_median_ans",
          "locked": false,
          "schema_version": 3,
          "solution": true
        },
        "id": "o4InggKCBBaC"
      },
      "outputs": [],
      "source": [
        "from sklearn import datasets\n",
        "iris = datasets.load_iris()\n",
        "sample = list(iris.data[:,0])\n",
        "def my_median(sample):\n",
        "    \"\"\"Function for calculating median\"\"\"\n",
        "    # YOUR CODE HERE\n",
        "    sortedList = sorted(sample)\n",
        "    LstLen = len(sample)\n",
        "    index = (LstLen - 1) // 2\n",
        "   \n",
        "    if (LstLen % 2):\n",
        "        return sortedList[index]\n",
        "    else:\n",
        "        return (sortedList[index] + sortedList[index + 1])/2.0\n",
        "\n",
        "    raise NotImplementedError()"
      ]
    },
    {
      "cell_type": "code",
      "execution_count": 2,
      "metadata": {
        "deletable": false,
        "editable": false,
        "nbgrader": {
          "cell_type": "code",
          "checksum": "7b2b8fc89aac637c30deaf0fbadd79ec",
          "grade": true,
          "grade_id": "my_median_test",
          "locked": false,
          "points": 1,
          "schema_version": 3,
          "solution": false
        },
        "id": "ghW-pTulBBaE"
      },
      "outputs": [],
      "source": [
        "\"\"\"Check your output\"\"\"\n",
        "assert my_median(sample) == 5.8"
      ]
    },
    {
      "cell_type": "markdown",
      "metadata": {
        "id": "-tOT6tvwBBaF"
      },
      "source": [
        "---\n",
        "\n",
        "## Question 2:\n",
        "\n",
        "`Please read me before attemping the question`\n",
        "A quartile is a type of quantile. The first quartile `(Q1)`, is defined as the middle number between the smallest number and the median of the data set, the second quartile `(Q2)` – median of the given data set while the third quartile `(Q3)`, is the middle number between the median and the largest value of the data set.\n",
        "\n",
        "Algorithm to find Quartiles :\n",
        "Quartiles are calculated by the help of the median. If the number of entries is an even number i.e. of the form 2n, then, first quartile `(Q1)` is equal to the median of the `n` smallest entries and the third quartile `(Q3)` is equal to the median of the `n` largest entries.\n",
        "\n",
        "If the number of entries is an odd number i.e. of the form `(2n + 1)`, then\n",
        "\n",
        "* the first quartile (Q1) is equal to the median of the n smallest entries\n",
        "* the third quartile (Q3) is equal to the median of the n largest entries\n",
        "* the second quartile(Q2) is the same as the ordinary median.\n",
        "\n",
        "Example: \n",
        "input = [75, 69, 56, 46, 47, 79, 92, 97, 89, 88, 36, 96, 105, 32, 116, 101, 79, 93, 91, 112]\n",
        "After sorting the above data set:\n",
        "[32, 36, 46, 47, 56, 69, 75, 79, 79, 88, 89, 91, 92, 93, 96, 97, 101, 105, 112, 116]\n",
        "Here the total number of terms is 20.\n",
        "\n",
        "The second quartile `(Q2)` or the median of the above data is `(88 + 89) / 2 = 88.5`\n",
        "The first quartile `(Q1)` is median of first `n` i.e. 10 terms (or `n` i.e. 10 smallest values) = 62.5\n",
        "The third quartile `(Q3)` is the median of `n` i.e. 10 largest values (or last `n` i.e. 10 values) = 96.5\n",
        "Then, `IQR = Q3 – Q1 = 96.5 – 62.5 = 34.0`\n",
        "\n",
        "\n",
        "Now, your job is to write a function to Caluate Interquartile Range on the second column of `iris` dataset, which you have loaded in the question 1.\n",
        "`hint`: Create a new variable `sample2` and slice the second column of the `iris` data. Please explore `np.percentile` function"
      ]
    },
    {
      "cell_type": "code",
      "execution_count": 3,
      "metadata": {
        "deletable": false,
        "nbgrader": {
          "cell_type": "code",
          "checksum": "b9fa9c03b96da752988979dc18f31475",
          "grade": false,
          "grade_id": "my_quartile_ans",
          "locked": false,
          "schema_version": 3,
          "solution": true
        },
        "id": "7P-VWwmeBBaJ"
      },
      "outputs": [],
      "source": [
        "import numpy as np\n",
        "sample2 = list(iris.data[:,1])\n",
        "def my_quartile(sample2):\n",
        "    \"\"\"Caluate Interquartile Range of the given list.\"\"\"\n",
        "    # YOUR CODE HERE\n",
        "    Q1 = np.quantile(sample2, 0.25, interpolation='midpoint')\n",
        "    Q3 = np.quantile(sample2, 0.75, interpolation='midpoint')\n",
        "    Q2=  Q3 - Q1\n",
        "    return Q2\n",
        "    raise NotImplementedError()"
      ]
    },
    {
      "cell_type": "code",
      "execution_count": 4,
      "metadata": {
        "deletable": false,
        "editable": false,
        "nbgrader": {
          "cell_type": "code",
          "checksum": "05188fb6903654dd84d84ca6f9a2b712",
          "grade": true,
          "grade_id": "my_quartile_test",
          "locked": false,
          "points": 2,
          "schema_version": 3,
          "solution": false
        },
        "id": "Up5YohinBBaL"
      },
      "outputs": [],
      "source": [
        "\"\"\"Check that correct answers here\"\"\"\n",
        "import math\n",
        "assert math.isclose(my_quartile(sample2), 0.5, rel_tol=0.05)"
      ]
    },
    {
      "cell_type": "markdown",
      "metadata": {
        "id": "oSk222myBBaN"
      },
      "source": [
        "---\n",
        "## Question 3: \n",
        "\n",
        "Write a function to calculate the `standard deviation` on the third column of `iris` dataset. Create a new variable `sample3` and slice the third column of the iris data. Please create a function that first calculate the variance then calculate `standard deviation`. Please do not use inbuilt `numpy.var` and `numpy.std` functions. Write your own codes. "
      ]
    },
    {
      "cell_type": "code",
      "execution_count": 11,
      "metadata": {
        "deletable": false,
        "nbgrader": {
          "cell_type": "code",
          "checksum": "70829cc761711f2debabbca2051aa37a",
          "grade": false,
          "grade_id": "my_std_ans",
          "locked": false,
          "schema_version": 3,
          "solution": true,
          "task": false
        },
        "id": "WMCVEb6GBBaO"
      },
      "outputs": [],
      "source": [
        "from numpy.ma.core import sqrt\n",
        "import math\n",
        "sample3 = list(iris.data[:,2])\n",
        "def my_std(sample3, ddof=0):\n",
        "    \"\"\"Write a program to calculate the standard deviation of 3rd column of iris dataset.\"\"\"\n",
        "    \n",
        "    # YOUR CODE HERE\n",
        "    avg = sum(sample3) / len(sample3)\n",
        "    var = sum((x-avg)**2 for x in sample3) / len(sample3)\n",
        "    std = var**0.5\n",
        "    return std\n",
        "\n",
        "    raise NotImplementedError()"
      ]
    },
    {
      "cell_type": "code",
      "execution_count": null,
      "metadata": {
        "deletable": false,
        "editable": false,
        "nbgrader": {
          "cell_type": "code",
          "checksum": "73e1860f9726a3e354f38732d205ca9e",
          "grade": true,
          "grade_id": "my_std_test",
          "locked": true,
          "points": 1,
          "schema_version": 3,
          "solution": false,
          "task": false
        },
        "id": "f3Dgm3TJBBaP"
      },
      "outputs": [],
      "source": [
        "\"\"\"Test you solution\"\"\"\n",
        "assert math.isclose(my_std(sample3), 12.85, rel_tol=0.05)"
      ]
    },
    {
      "cell_type": "markdown",
      "metadata": {
        "id": "31xWUru8BBaR"
      },
      "source": [
        "---\n",
        "## Question 4:\n",
        "\n",
        "Write a program to find the mean of the 4th column of `iris` dataset. "
      ]
    },
    {
      "cell_type": "code",
      "execution_count": 12,
      "metadata": {
        "deletable": false,
        "nbgrader": {
          "cell_type": "code",
          "checksum": "c83c033456434aedf0b6a2f376e03bc8",
          "grade": false,
          "grade_id": "my_mean_ans",
          "locked": false,
          "schema_version": 3,
          "solution": true,
          "task": false
        },
        "id": "_IV5nObUBBaR"
      },
      "outputs": [],
      "source": [
        "sample4 = list(iris.data[:,3])\n",
        "def my_mean(sample4):\n",
        "    \"\"\"write a function to find the mean of the 4th column of iris data\"\"\"\n",
        "    # YOUR CODE HERE\n",
        "    return sum(sample4) / len(sample4)\n",
        "    raise NotImplementedError()"
      ]
    },
    {
      "cell_type": "code",
      "execution_count": 13,
      "metadata": {
        "deletable": false,
        "editable": false,
        "nbgrader": {
          "cell_type": "code",
          "checksum": "6ad8a1583e1a2915d2f80df7a3d19921",
          "grade": true,
          "grade_id": "my_mean_test",
          "locked": true,
          "points": 1,
          "schema_version": 3,
          "solution": false,
          "task": false
        },
        "id": "BhBUYbfKBBaS"
      },
      "outputs": [],
      "source": [
        "\"\"\"Test you solution\"\"\"\n",
        "assert math.isclose(my_mean(sample4), 1.19, rel_tol=0.05)"
      ]
    },
    {
      "cell_type": "markdown",
      "metadata": {
        "id": "DBGbUJ5BBBaS"
      },
      "source": [
        "## Question 5\n",
        "\n",
        "Write a Pandas program to calculate the correlation between column 1 and column 3 of `iris` dataset. `Hint` use `from scipy import stats` to find a Pearson correlation coefficient. "
      ]
    },
    {
      "cell_type": "code",
      "execution_count": 14,
      "metadata": {
        "deletable": false,
        "nbgrader": {
          "cell_type": "code",
          "checksum": "4d8031d5466b59f4e2a1a4ecbcdbebf7",
          "grade": false,
          "grade_id": "iris_correlation_ans",
          "locked": false,
          "schema_version": 3,
          "solution": true,
          "task": false
        },
        "id": "7uGwqDkrBBaT"
      },
      "outputs": [],
      "source": [
        "import itertools\n",
        "from scipy import stats\n",
        "sample1 = list(iris.data[:,0])\n",
        "sample2 = list(iris.data[:,2])\n",
        "\n",
        "def mean(someList):  #Added function For mean Value\n",
        "    total = 0\n",
        "    for a in someList:\n",
        "        total += float(a)\n",
        "    mean = total/len(someList)\n",
        "    return mean\n",
        "def standDev(someList): #Added function For first standard deviation Value\n",
        "    listMean = mean(someList)\n",
        "    dev = 0.0\n",
        "    for i in range(len(someList)):\n",
        "        dev += (someList[i]-listMean)**2\n",
        "    dev = dev**(1/2.0)\n",
        "    return dev\n",
        "\n",
        "def iris_correlation(sample1, sample2):\n",
        "    \"\"\"calculate the correlation\"\"\"\n",
        "    # YOUR CODE HERE\n",
        "    xMean = mean(sample1)\n",
        "    yMean = mean(sample2)\n",
        "    xStandDev = standDev(sample1)\n",
        "    yStandDev = standDev(sample2)\n",
        "    # r numerator\n",
        "    rNum = 0.0\n",
        "    for i in range(len(sample1)):\n",
        "        rNum += (sample1[i]-xMean)*(sample2[i]-yMean)\n",
        "\n",
        "    # r denominator\n",
        "    rDen = xStandDev * yStandDev\n",
        "\n",
        "    r =  rNum/rDen\n",
        "    return r\n",
        "\n",
        "    raise NotImplementedError()"
      ]
    },
    {
      "cell_type": "code",
      "execution_count": 15,
      "metadata": {
        "id": "H39RyHDuBBaT"
      },
      "outputs": [],
      "source": [
        "\"\"\"Test you solution\"\"\"\n",
        "assert math.isclose(iris_correlation(sample1, sample2), 0.87, rel_tol=0.05)"
      ]
    }
  ],
  "metadata": {
    "kernelspec": {
      "display_name": "Python 3",
      "language": "python",
      "name": "python3"
    },
    "language_info": {
      "codemirror_mode": {
        "name": "ipython",
        "version": 3
      },
      "file_extension": ".py",
      "mimetype": "text/x-python",
      "name": "python",
      "nbconvert_exporter": "python",
      "pygments_lexer": "ipython3",
      "version": "3.7.10"
    },
    "colab": {
      "name": "problem1.ipynb",
      "provenance": [],
      "collapsed_sections": [],
      "include_colab_link": true
    }
  },
  "nbformat": 4,
  "nbformat_minor": 0
}